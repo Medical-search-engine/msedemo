{
 "cells": [
  {
   "cell_type": "markdown",
   "metadata": {},
   "source": [
    "# Medical Embeddings and clinical trial search engine"
   ]
  },
  {
   "cell_type": "code",
   "execution_count": 1,
   "metadata": {},
   "outputs": [],
   "source": [
    "#  Importing Libraries\n",
    "import streamlit as st  # importing streamlit liabrary\n",
    "import pandas as pd\n",
    "import numpy as np\n",
    "import gensim\n",
    "from gensim.models import Word2Vec\n",
    "from gensim.models import FastText\n",
    "from sklearn.decomposition import PCA\n",
    "from matplotlib import pyplot"
   ]
  },
  {
   "cell_type": "code",
   "execution_count": 2,
   "metadata": {},
   "outputs": [
    {
     "name": "stderr",
     "output_type": "stream",
     "text": [
      "[nltk_data] Downloading package stopwords to\n",
      "[nltk_data]     C:\\Users\\KARTHIKA\\AppData\\Roaming\\nltk_data...\n",
      "[nltk_data]   Unzipping corpora\\stopwords.zip.\n",
      "[nltk_data] Downloading package wordnet to\n",
      "[nltk_data]     C:\\Users\\KARTHIKA\\AppData\\Roaming\\nltk_data...\n",
      "[nltk_data] Downloading package punkt to\n",
      "[nltk_data]     C:\\Users\\KARTHIKA\\AppData\\Roaming\\nltk_data...\n",
      "[nltk_data]   Unzipping tokenizers\\punkt.zip.\n"
     ]
    },
    {
     "data": {
      "text/plain": [
       "True"
      ]
     },
     "execution_count": 2,
     "metadata": {},
     "output_type": "execute_result"
    }
   ],
   "source": [
    "import matplotlib.pyplot as plt # our main display package\n",
    "import plotly.graph_objects as go\n",
    "import string # used for preprocessing\n",
    "import re # used for preprocessing\n",
    "import numpy as np # used for managing NaNs\n",
    "import nltk\n",
    "from nltk.tokenize import word_tokenize\n",
    "from nltk.corpus import stopwords # used for preprocessing\n",
    "from nltk.stem import WordNetLemmatizer # used for preprocessing\n",
    "from sklearn.model_selection import train_test_split\n",
    "nltk.download('stopwords')\n",
    "nltk.download('wordnet')\n",
    "nltk.download('punkt')"
   ]
  },
  {
   "cell_type": "markdown",
   "metadata": {},
   "source": [
    "# Importing datasets "
   ]
  },
  {
   "cell_type": "code",
   "execution_count": 3,
   "metadata": {},
   "outputs": [],
   "source": [
    "df=pd.read_csv('input/Dimension-covid.csv')   #for preprocessing\n",
    "df1=pd.read_csv('input/Dimension-covid.csv')  #for returning results"
   ]
  },
  {
   "cell_type": "markdown",
   "metadata": {},
   "source": [
    "# Preprocessing data "
   ]
  },
  {
   "cell_type": "code",
   "execution_count": 4,
   "metadata": {},
   "outputs": [
    {
     "data": {
      "text/plain": [
       "(10666, 21)"
      ]
     },
     "execution_count": 4,
     "metadata": {},
     "output_type": "execute_result"
    }
   ],
   "source": [
    "# understand the data\n",
    "\n",
    "df.shape"
   ]
  },
  {
   "cell_type": "code",
   "execution_count": 5,
   "metadata": {},
   "outputs": [
    {
     "data": {
      "text/html": [
       "<div>\n",
       "<style scoped>\n",
       "    .dataframe tbody tr th:only-of-type {\n",
       "        vertical-align: middle;\n",
       "    }\n",
       "\n",
       "    .dataframe tbody tr th {\n",
       "        vertical-align: top;\n",
       "    }\n",
       "\n",
       "    .dataframe thead th {\n",
       "        text-align: right;\n",
       "    }\n",
       "</style>\n",
       "<table border=\"1\" class=\"dataframe\">\n",
       "  <thead>\n",
       "    <tr style=\"text-align: right;\">\n",
       "      <th></th>\n",
       "      <th>Date added</th>\n",
       "      <th>Trial ID</th>\n",
       "      <th>Title</th>\n",
       "      <th>Brief title</th>\n",
       "      <th>Acronym</th>\n",
       "      <th>Abstract</th>\n",
       "      <th>Publication date</th>\n",
       "      <th>Active years</th>\n",
       "      <th>Phase</th>\n",
       "      <th>Conditions</th>\n",
       "      <th>...</th>\n",
       "      <th>Gender</th>\n",
       "      <th>Registry</th>\n",
       "      <th>Investigators/Contacts</th>\n",
       "      <th>Sponsors/Collaborators</th>\n",
       "      <th>GRID IDs</th>\n",
       "      <th>Country of Sponsor/Collaborator</th>\n",
       "      <th>Collaborating Funders</th>\n",
       "      <th>Funder Country</th>\n",
       "      <th>Source Linkout</th>\n",
       "      <th>Dimensions URL</th>\n",
       "    </tr>\n",
       "  </thead>\n",
       "  <tbody>\n",
       "    <tr>\n",
       "      <th>0</th>\n",
       "      <td>2021-06-04</td>\n",
       "      <td>NCT04912934</td>\n",
       "      <td>The Relationship Between Coronavirus Anxiety L...</td>\n",
       "      <td>The Relationship Between COVID-19 Anxiety Leve...</td>\n",
       "      <td>COVID-19</td>\n",
       "      <td>The aim was to determine the coronavirus anxie...</td>\n",
       "      <td>2020-06-20</td>\n",
       "      <td>2020</td>\n",
       "      <td>NaN</td>\n",
       "      <td>COVID-19; Emotional Eating; Metabolic Syndrome</td>\n",
       "      <td>...</td>\n",
       "      <td>All</td>\n",
       "      <td>ClinicalTrials.gov</td>\n",
       "      <td>Dilek Küçük Alemdar</td>\n",
       "      <td>Ordu University</td>\n",
       "      <td>grid.412366.4</td>\n",
       "      <td>Turkey</td>\n",
       "      <td>NaN</td>\n",
       "      <td>NaN</td>\n",
       "      <td>https://clinicaltrials.gov/show/NCT04912934</td>\n",
       "      <td>https://app.dimensions.ai/details/clinical_tri...</td>\n",
       "    </tr>\n",
       "    <tr>\n",
       "      <th>1</th>\n",
       "      <td>2021-06-04</td>\n",
       "      <td>NCT04912921</td>\n",
       "      <td>Effect of Palmitoylethanolamide on Proinflamma...</td>\n",
       "      <td>Effect of Palmitoylethanolamide on Proinflamma...</td>\n",
       "      <td>NaN</td>\n",
       "      <td>This is a randomized controlled trial to exami...</td>\n",
       "      <td>2020-10-20</td>\n",
       "      <td>2020; 2021; 2022</td>\n",
       "      <td>NaN</td>\n",
       "      <td>COVID19; Inflammation</td>\n",
       "      <td>...</td>\n",
       "      <td>All</td>\n",
       "      <td>ClinicalTrials.gov</td>\n",
       "      <td>NaN</td>\n",
       "      <td>Arizona State University</td>\n",
       "      <td>grid.215654.1</td>\n",
       "      <td>United States</td>\n",
       "      <td>NaN</td>\n",
       "      <td>NaN</td>\n",
       "      <td>https://clinicaltrials.gov/show/NCT04912921</td>\n",
       "      <td>https://app.dimensions.ai/details/clinical_tri...</td>\n",
       "    </tr>\n",
       "    <tr>\n",
       "      <th>2</th>\n",
       "      <td>2021-06-04</td>\n",
       "      <td>NCT04912895</td>\n",
       "      <td>Detection of SARS-CoV-2 RNA and Biomarkers in ...</td>\n",
       "      <td>Detection of SARS-CoV-2 RNA in Coughed Droplet...</td>\n",
       "      <td>NaN</td>\n",
       "      <td>The purpose of this study is to learn how to b...</td>\n",
       "      <td>2021-04-14</td>\n",
       "      <td>2021; 2022</td>\n",
       "      <td>NaN</td>\n",
       "      <td>Covid19</td>\n",
       "      <td>...</td>\n",
       "      <td>All</td>\n",
       "      <td>ClinicalTrials.gov</td>\n",
       "      <td>Larry Anderson</td>\n",
       "      <td>Emory University Hospital Midtown; Emory Unive...</td>\n",
       "      <td>grid.411929.6; grid.412162.2; grid.189967.8; g...</td>\n",
       "      <td>United States; United States; United States; U...</td>\n",
       "      <td>NaN</td>\n",
       "      <td>NaN</td>\n",
       "      <td>https://clinicaltrials.gov/show/NCT04912895</td>\n",
       "      <td>https://app.dimensions.ai/details/clinical_tri...</td>\n",
       "    </tr>\n",
       "    <tr>\n",
       "      <th>3</th>\n",
       "      <td>2021-06-04</td>\n",
       "      <td>NCT04912817</td>\n",
       "      <td>Pain Rehabilitation Virtual Reality (PR-VR) At...</td>\n",
       "      <td>PR-VR At-home Program During and After COVID-19</td>\n",
       "      <td>NaN</td>\n",
       "      <td>Poorly controlled chronic pain in teens can im...</td>\n",
       "      <td>2021-09-01</td>\n",
       "      <td>2021; 2022</td>\n",
       "      <td>NaN</td>\n",
       "      <td>Pain, Chronic</td>\n",
       "      <td>...</td>\n",
       "      <td>All</td>\n",
       "      <td>ClinicalTrials.gov</td>\n",
       "      <td>Jennifer Stinson</td>\n",
       "      <td>Hospital for Sick Children; Stanford University</td>\n",
       "      <td>grid.42327.30; grid.168010.e</td>\n",
       "      <td>Canada; United States</td>\n",
       "      <td>Hospital for Sick Children</td>\n",
       "      <td>Canada</td>\n",
       "      <td>https://clinicaltrials.gov/show/NCT04912817</td>\n",
       "      <td>https://app.dimensions.ai/details/clinical_tri...</td>\n",
       "    </tr>\n",
       "    <tr>\n",
       "      <th>4</th>\n",
       "      <td>2021-06-04</td>\n",
       "      <td>NCT04912804</td>\n",
       "      <td>Perceived Health After Hospitalization for COV...</td>\n",
       "      <td>Perceived Health After Hospitalization for COV...</td>\n",
       "      <td>PRO-COVID</td>\n",
       "      <td>There are currently no precise data available ...</td>\n",
       "      <td>2020-06-30</td>\n",
       "      <td>2020; 2021</td>\n",
       "      <td>NaN</td>\n",
       "      <td>COVID-19, Post-hospitalization, Disease Impact</td>\n",
       "      <td>...</td>\n",
       "      <td>All</td>\n",
       "      <td>ClinicalTrials.gov</td>\n",
       "      <td>NaN</td>\n",
       "      <td>Centre Hospitalier Universitaire Dijon Bourgogne</td>\n",
       "      <td>grid.31151.37</td>\n",
       "      <td>France</td>\n",
       "      <td>NaN</td>\n",
       "      <td>NaN</td>\n",
       "      <td>https://clinicaltrials.gov/show/NCT04912804</td>\n",
       "      <td>https://app.dimensions.ai/details/clinical_tri...</td>\n",
       "    </tr>\n",
       "  </tbody>\n",
       "</table>\n",
       "<p>5 rows × 21 columns</p>\n",
       "</div>"
      ],
      "text/plain": [
       "   Date added     Trial ID                                              Title  \\\n",
       "0  2021-06-04  NCT04912934  The Relationship Between Coronavirus Anxiety L...   \n",
       "1  2021-06-04  NCT04912921  Effect of Palmitoylethanolamide on Proinflamma...   \n",
       "2  2021-06-04  NCT04912895  Detection of SARS-CoV-2 RNA and Biomarkers in ...   \n",
       "3  2021-06-04  NCT04912817  Pain Rehabilitation Virtual Reality (PR-VR) At...   \n",
       "4  2021-06-04  NCT04912804  Perceived Health After Hospitalization for COV...   \n",
       "\n",
       "                                         Brief title    Acronym  \\\n",
       "0  The Relationship Between COVID-19 Anxiety Leve...   COVID-19   \n",
       "1  Effect of Palmitoylethanolamide on Proinflamma...        NaN   \n",
       "2  Detection of SARS-CoV-2 RNA in Coughed Droplet...        NaN   \n",
       "3    PR-VR At-home Program During and After COVID-19        NaN   \n",
       "4  Perceived Health After Hospitalization for COV...  PRO-COVID   \n",
       "\n",
       "                                            Abstract Publication date  \\\n",
       "0  The aim was to determine the coronavirus anxie...       2020-06-20   \n",
       "1  This is a randomized controlled trial to exami...       2020-10-20   \n",
       "2  The purpose of this study is to learn how to b...       2021-04-14   \n",
       "3  Poorly controlled chronic pain in teens can im...       2021-09-01   \n",
       "4  There are currently no precise data available ...       2020-06-30   \n",
       "\n",
       "       Active years Phase                                      Conditions  \\\n",
       "0              2020   NaN  COVID-19; Emotional Eating; Metabolic Syndrome   \n",
       "1  2020; 2021; 2022   NaN                           COVID19; Inflammation   \n",
       "2        2021; 2022   NaN                                         Covid19   \n",
       "3        2021; 2022   NaN                                   Pain, Chronic   \n",
       "4        2020; 2021   NaN  COVID-19, Post-hospitalization, Disease Impact   \n",
       "\n",
       "   ... Gender            Registry Investigators/Contacts  \\\n",
       "0  ...    All  ClinicalTrials.gov    Dilek Küçük Alemdar   \n",
       "1  ...    All  ClinicalTrials.gov                    NaN   \n",
       "2  ...    All  ClinicalTrials.gov         Larry Anderson   \n",
       "3  ...    All  ClinicalTrials.gov       Jennifer Stinson   \n",
       "4  ...    All  ClinicalTrials.gov                    NaN   \n",
       "\n",
       "                              Sponsors/Collaborators  \\\n",
       "0                                    Ordu University   \n",
       "1                           Arizona State University   \n",
       "2  Emory University Hospital Midtown; Emory Unive...   \n",
       "3    Hospital for Sick Children; Stanford University   \n",
       "4   Centre Hospitalier Universitaire Dijon Bourgogne   \n",
       "\n",
       "                                            GRID IDs  \\\n",
       "0                                      grid.412366.4   \n",
       "1                                      grid.215654.1   \n",
       "2  grid.411929.6; grid.412162.2; grid.189967.8; g...   \n",
       "3                       grid.42327.30; grid.168010.e   \n",
       "4                                      grid.31151.37   \n",
       "\n",
       "                     Country of Sponsor/Collaborator  \\\n",
       "0                                             Turkey   \n",
       "1                                      United States   \n",
       "2  United States; United States; United States; U...   \n",
       "3                              Canada; United States   \n",
       "4                                             France   \n",
       "\n",
       "        Collaborating Funders Funder Country  \\\n",
       "0                         NaN            NaN   \n",
       "1                         NaN            NaN   \n",
       "2                         NaN            NaN   \n",
       "3  Hospital for Sick Children         Canada   \n",
       "4                         NaN            NaN   \n",
       "\n",
       "                                Source Linkout  \\\n",
       "0  https://clinicaltrials.gov/show/NCT04912934   \n",
       "1  https://clinicaltrials.gov/show/NCT04912921   \n",
       "2  https://clinicaltrials.gov/show/NCT04912895   \n",
       "3  https://clinicaltrials.gov/show/NCT04912817   \n",
       "4  https://clinicaltrials.gov/show/NCT04912804   \n",
       "\n",
       "                                      Dimensions URL  \n",
       "0  https://app.dimensions.ai/details/clinical_tri...  \n",
       "1  https://app.dimensions.ai/details/clinical_tri...  \n",
       "2  https://app.dimensions.ai/details/clinical_tri...  \n",
       "3  https://app.dimensions.ai/details/clinical_tri...  \n",
       "4  https://app.dimensions.ai/details/clinical_tri...  \n",
       "\n",
       "[5 rows x 21 columns]"
      ]
     },
     "execution_count": 5,
     "metadata": {},
     "output_type": "execute_result"
    }
   ],
   "source": [
    "# understand the data\n",
    "\n",
    "df.head()"
   ]
  },
  {
   "cell_type": "code",
   "execution_count": 6,
   "metadata": {},
   "outputs": [
    {
     "data": {
      "text/plain": [
       "'This is a randomized controlled trial to examine the effect of a food supplement on proinflammatory cytokines and biomarkers in an adult population recently diagnosed with COVID-19 who are asymptomatic or experiencing only mild symptoms. The supplement, palmitoylethanolamide (PEA), is marketed under the trademarked product with increased bioavailability and format versatility: Levagen+™ (Gencor Pacific Limited, Irvine, CA).\\n\\nDetailed Description\\nInflammation is at the core of many chronic conditions and exacerbates infectious conditions, and inflammatory responses appear to be key determinants of the severity of COVID-19 infection. Hence, controlling inflammation is considered a key strategy for slowing the progression of disease and tissue pathology. This research offers a natural, dietary approach to managing inflammation by reducing the mediators of inflammation. The beneficial effects of palmitoylethanolamide (PEA) for reducing inflammation is documented in the research literature. The proposed research will expand this literature in a novel manner. The investigators propose to demonstrate the efficacy of this dietary supplement in individuals from a campus population with robust immune protection - those who recently tested positive for COVID-19 but were asymptomatic or mildly symptomatic. Since a college population is under many stressors which raise inflammatory profiles during the academic year, and since a college population is exposed to infectious agents on campus, maintaining strong protective immune system following a COVID-19 infection is important.'"
      ]
     },
     "execution_count": 6,
     "metadata": {},
     "output_type": "execute_result"
    }
   ],
   "source": [
    "# Preview the  abstract in the first row  \n",
    "df['Abstract'][1]"
   ]
  },
  {
   "cell_type": "markdown",
   "metadata": {},
   "source": [
    "From the above we can see that we have uppercase,stop words, numbers, symbols, puntuations and  \\n spaces.\n",
    "In order for the word2vec or any nlp process can take precedence we must preprocess the data by eliminating all the above and vect"
   ]
  },
  {
   "cell_type": "code",
   "execution_count": 7,
   "metadata": {},
   "outputs": [],
   "source": [
    "# function to remove all urls\n",
    "def remove_urls(text):    \n",
    "    new_text = ' '.join(re.sub(\"(@[A-Za-z0-9]+)|([^0-9A-Za-z \\t])|(\\w+:\\/\\/\\S+)\",\" \",text).split())\n",
    "    return new_text\n",
    "\n",
    "# make all text lowercase\n",
    "def text_lowercase(text):\n",
    "    return text.lower()\n",
    "\n",
    "# remove numbers\n",
    "def remove_numbers(text):\n",
    "    result = re.sub(r'\\d+', '', text)\n",
    "    return result\n",
    "\n",
    "# remove punctuation\n",
    "def remove_punctuation(text):\n",
    "    translator = str.maketrans('', '', string.punctuation)\n",
    "    return text.translate(translator)\n",
    "\n",
    "# tokenize\n",
    "def tokenize(text):\n",
    "    text = word_tokenize(text)\n",
    "    return text\n",
    "\n",
    "# remove stopwords\n",
    "stop_words = set(stopwords.words('english'))\n",
    "def remove_stopwords(text):\n",
    "    text = [i for i in text if not i in stop_words]\n",
    "    return text\n",
    "\n",
    "# lemmatize Words \n",
    "lemmatizer = WordNetLemmatizer()\n",
    "def lemmatize(text):\n",
    "    text = [lemmatizer.lemmatize(token) for token in text]\n",
    "    return text\n",
    "\n",
    "#Creating one function so that all functions can be applied at once\n",
    "def preprocessing(text):\n",
    "    \n",
    "    text = text_lowercase(text)\n",
    "    text = remove_urls(text)\n",
    "    text = remove_numbers(text)\n",
    "    text = remove_punctuation(text)\n",
    "    text = tokenize(text)\n",
    "    text = remove_stopwords(text)\n",
    "    text = lemmatize(text)\n",
    "    text = ' '.join(text)\n",
    "    return text"
   ]
  },
  {
   "cell_type": "code",
   "execution_count": 15,
   "metadata": {},
   "outputs": [
    {
     "ename": "LookupError",
     "evalue": "\n**********************************************************************\n  Resource \u001b[93momw-1.4\u001b[0m not found.\n  Please use the NLTK Downloader to obtain the resource:\n\n  \u001b[31m>>> import nltk\n  >>> nltk.download('omw-1.4')\n  \u001b[0m\n  For more information see: https://www.nltk.org/data.html\n\n  Attempted to load \u001b[93mcorpora/omw-1.4\u001b[0m\n\n  Searched in:\n    - 'C:\\\\Users\\\\KARTHIKA/nltk_data'\n    - 'C:\\\\ProgramData\\\\anaconda3\\\\nltk_data'\n    - 'C:\\\\ProgramData\\\\anaconda3\\\\share\\\\nltk_data'\n    - 'C:\\\\ProgramData\\\\anaconda3\\\\lib\\\\nltk_data'\n    - 'C:\\\\Users\\\\KARTHIKA\\\\AppData\\\\Roaming\\\\nltk_data'\n    - 'C:\\\\nltk_data'\n    - 'D:\\\\nltk_data'\n    - 'E:\\\\nltk_data'\n**********************************************************************\n",
     "output_type": "error",
     "traceback": [
      "\u001b[1;31m---------------------------------------------------------------------------\u001b[0m",
      "\u001b[1;31mLookupError\u001b[0m                               Traceback (most recent call last)",
      "File \u001b[1;32mC:\\ProgramData\\anaconda3\\lib\\site-packages\\nltk\\corpus\\util.py:84\u001b[0m, in \u001b[0;36mLazyCorpusLoader.__load\u001b[1;34m(self)\u001b[0m\n\u001b[0;32m     83\u001b[0m \u001b[38;5;28;01mtry\u001b[39;00m:\n\u001b[1;32m---> 84\u001b[0m     root \u001b[38;5;241m=\u001b[39m \u001b[43mnltk\u001b[49m\u001b[38;5;241;43m.\u001b[39;49m\u001b[43mdata\u001b[49m\u001b[38;5;241;43m.\u001b[39;49m\u001b[43mfind\u001b[49m\u001b[43m(\u001b[49m\u001b[38;5;124;43mf\u001b[39;49m\u001b[38;5;124;43m\"\u001b[39;49m\u001b[38;5;132;43;01m{\u001b[39;49;00m\u001b[38;5;28;43mself\u001b[39;49m\u001b[38;5;241;43m.\u001b[39;49m\u001b[43msubdir\u001b[49m\u001b[38;5;132;43;01m}\u001b[39;49;00m\u001b[38;5;124;43m/\u001b[39;49m\u001b[38;5;132;43;01m{\u001b[39;49;00m\u001b[43mzip_name\u001b[49m\u001b[38;5;132;43;01m}\u001b[39;49;00m\u001b[38;5;124;43m\"\u001b[39;49m\u001b[43m)\u001b[49m\n\u001b[0;32m     85\u001b[0m \u001b[38;5;28;01mexcept\u001b[39;00m \u001b[38;5;167;01mLookupError\u001b[39;00m:\n",
      "File \u001b[1;32mC:\\ProgramData\\anaconda3\\lib\\site-packages\\nltk\\data.py:583\u001b[0m, in \u001b[0;36mfind\u001b[1;34m(resource_name, paths)\u001b[0m\n\u001b[0;32m    582\u001b[0m resource_not_found \u001b[38;5;241m=\u001b[39m \u001b[38;5;124mf\u001b[39m\u001b[38;5;124m\"\u001b[39m\u001b[38;5;130;01m\\n\u001b[39;00m\u001b[38;5;132;01m{\u001b[39;00msep\u001b[38;5;132;01m}\u001b[39;00m\u001b[38;5;130;01m\\n\u001b[39;00m\u001b[38;5;132;01m{\u001b[39;00mmsg\u001b[38;5;132;01m}\u001b[39;00m\u001b[38;5;130;01m\\n\u001b[39;00m\u001b[38;5;132;01m{\u001b[39;00msep\u001b[38;5;132;01m}\u001b[39;00m\u001b[38;5;130;01m\\n\u001b[39;00m\u001b[38;5;124m\"\u001b[39m\n\u001b[1;32m--> 583\u001b[0m \u001b[38;5;28;01mraise\u001b[39;00m \u001b[38;5;167;01mLookupError\u001b[39;00m(resource_not_found)\n",
      "\u001b[1;31mLookupError\u001b[0m: \n**********************************************************************\n  Resource \u001b[93momw-1.4\u001b[0m not found.\n  Please use the NLTK Downloader to obtain the resource:\n\n  \u001b[31m>>> import nltk\n  >>> nltk.download('omw-1.4')\n  \u001b[0m\n  For more information see: https://www.nltk.org/data.html\n\n  Attempted to load \u001b[93mcorpora/omw-1.4.zip/omw-1.4/\u001b[0m\n\n  Searched in:\n    - 'C:\\\\Users\\\\KARTHIKA/nltk_data'\n    - 'C:\\\\ProgramData\\\\anaconda3\\\\nltk_data'\n    - 'C:\\\\ProgramData\\\\anaconda3\\\\share\\\\nltk_data'\n    - 'C:\\\\ProgramData\\\\anaconda3\\\\lib\\\\nltk_data'\n    - 'C:\\\\Users\\\\KARTHIKA\\\\AppData\\\\Roaming\\\\nltk_data'\n    - 'C:\\\\nltk_data'\n    - 'D:\\\\nltk_data'\n    - 'E:\\\\nltk_data'\n**********************************************************************\n",
      "\nDuring handling of the above exception, another exception occurred:\n",
      "\u001b[1;31mLookupError\u001b[0m                               Traceback (most recent call last)",
      "Cell \u001b[1;32mIn[15], line 4\u001b[0m\n\u001b[0;32m      1\u001b[0m \u001b[38;5;66;03m#Applying preprocessing and removing '\\n' character\u001b[39;00m\n\u001b[0;32m      3\u001b[0m \u001b[38;5;28;01mfor\u001b[39;00m i \u001b[38;5;129;01min\u001b[39;00m \u001b[38;5;28mrange\u001b[39m(df\u001b[38;5;241m.\u001b[39mshape[\u001b[38;5;241m0\u001b[39m]):\n\u001b[1;32m----> 4\u001b[0m     df[\u001b[38;5;124m'\u001b[39m\u001b[38;5;124mAbstract\u001b[39m\u001b[38;5;124m'\u001b[39m][i]\u001b[38;5;241m=\u001b[39m\u001b[43mpreprocessing\u001b[49m\u001b[43m(\u001b[49m\u001b[38;5;28;43mstr\u001b[39;49m\u001b[43m(\u001b[49m\u001b[43mdf\u001b[49m\u001b[43m[\u001b[49m\u001b[38;5;124;43m'\u001b[39;49m\u001b[38;5;124;43mAbstract\u001b[39;49m\u001b[38;5;124;43m'\u001b[39;49m\u001b[43m]\u001b[49m\u001b[43m[\u001b[49m\u001b[43mi\u001b[49m\u001b[43m]\u001b[49m\u001b[43m)\u001b[49m\u001b[43m)\u001b[49m \n\u001b[0;32m      5\u001b[0m \u001b[38;5;28;01mfor\u001b[39;00m text \u001b[38;5;129;01min\u001b[39;00m df\u001b[38;5;241m.\u001b[39mAbstract:\n\u001b[0;32m      7\u001b[0m     text\u001b[38;5;241m=\u001b[39mtext\u001b[38;5;241m.\u001b[39mreplace(\u001b[38;5;124m'\u001b[39m\u001b[38;5;130;01m\\n\u001b[39;00m\u001b[38;5;124m'\u001b[39m,\u001b[38;5;124m'\u001b[39m\u001b[38;5;124m \u001b[39m\u001b[38;5;124m'\u001b[39m)\n",
      "Cell \u001b[1;32mIn[7], line 46\u001b[0m, in \u001b[0;36mpreprocessing\u001b[1;34m(text)\u001b[0m\n\u001b[0;32m     44\u001b[0m text \u001b[38;5;241m=\u001b[39m tokenize(text)\n\u001b[0;32m     45\u001b[0m text \u001b[38;5;241m=\u001b[39m remove_stopwords(text)\n\u001b[1;32m---> 46\u001b[0m text \u001b[38;5;241m=\u001b[39m \u001b[43mlemmatize\u001b[49m\u001b[43m(\u001b[49m\u001b[43mtext\u001b[49m\u001b[43m)\u001b[49m\n\u001b[0;32m     47\u001b[0m text \u001b[38;5;241m=\u001b[39m \u001b[38;5;124m'\u001b[39m\u001b[38;5;124m \u001b[39m\u001b[38;5;124m'\u001b[39m\u001b[38;5;241m.\u001b[39mjoin(text)\n\u001b[0;32m     48\u001b[0m \u001b[38;5;28;01mreturn\u001b[39;00m text\n",
      "Cell \u001b[1;32mIn[7], line 34\u001b[0m, in \u001b[0;36mlemmatize\u001b[1;34m(text)\u001b[0m\n\u001b[0;32m     33\u001b[0m \u001b[38;5;28;01mdef\u001b[39;00m \u001b[38;5;21mlemmatize\u001b[39m(text):\n\u001b[1;32m---> 34\u001b[0m     text \u001b[38;5;241m=\u001b[39m [lemmatizer\u001b[38;5;241m.\u001b[39mlemmatize(token) \u001b[38;5;28;01mfor\u001b[39;00m token \u001b[38;5;129;01min\u001b[39;00m text]\n\u001b[0;32m     35\u001b[0m     \u001b[38;5;28;01mreturn\u001b[39;00m text\n",
      "Cell \u001b[1;32mIn[7], line 34\u001b[0m, in \u001b[0;36m<listcomp>\u001b[1;34m(.0)\u001b[0m\n\u001b[0;32m     33\u001b[0m \u001b[38;5;28;01mdef\u001b[39;00m \u001b[38;5;21mlemmatize\u001b[39m(text):\n\u001b[1;32m---> 34\u001b[0m     text \u001b[38;5;241m=\u001b[39m [\u001b[43mlemmatizer\u001b[49m\u001b[38;5;241;43m.\u001b[39;49m\u001b[43mlemmatize\u001b[49m\u001b[43m(\u001b[49m\u001b[43mtoken\u001b[49m\u001b[43m)\u001b[49m \u001b[38;5;28;01mfor\u001b[39;00m token \u001b[38;5;129;01min\u001b[39;00m text]\n\u001b[0;32m     35\u001b[0m     \u001b[38;5;28;01mreturn\u001b[39;00m text\n",
      "File \u001b[1;32mC:\\ProgramData\\anaconda3\\lib\\site-packages\\nltk\\stem\\wordnet.py:45\u001b[0m, in \u001b[0;36mWordNetLemmatizer.lemmatize\u001b[1;34m(self, word, pos)\u001b[0m\n\u001b[0;32m     33\u001b[0m \u001b[38;5;28;01mdef\u001b[39;00m \u001b[38;5;21mlemmatize\u001b[39m(\u001b[38;5;28mself\u001b[39m, word: \u001b[38;5;28mstr\u001b[39m, pos: \u001b[38;5;28mstr\u001b[39m \u001b[38;5;241m=\u001b[39m \u001b[38;5;124m\"\u001b[39m\u001b[38;5;124mn\u001b[39m\u001b[38;5;124m\"\u001b[39m) \u001b[38;5;241m-\u001b[39m\u001b[38;5;241m>\u001b[39m \u001b[38;5;28mstr\u001b[39m:\n\u001b[0;32m     34\u001b[0m \u001b[38;5;250m    \u001b[39m\u001b[38;5;124;03m\"\"\"Lemmatize `word` using WordNet's built-in morphy function.\u001b[39;00m\n\u001b[0;32m     35\u001b[0m \u001b[38;5;124;03m    Returns the input word unchanged if it cannot be found in WordNet.\u001b[39;00m\n\u001b[0;32m     36\u001b[0m \n\u001b[1;32m   (...)\u001b[0m\n\u001b[0;32m     43\u001b[0m \u001b[38;5;124;03m    :return: The lemma of `word`, for the given `pos`.\u001b[39;00m\n\u001b[0;32m     44\u001b[0m \u001b[38;5;124;03m    \"\"\"\u001b[39;00m\n\u001b[1;32m---> 45\u001b[0m     lemmas \u001b[38;5;241m=\u001b[39m \u001b[43mwn\u001b[49m\u001b[38;5;241;43m.\u001b[39;49m\u001b[43m_morphy\u001b[49m(word, pos)\n\u001b[0;32m     46\u001b[0m     \u001b[38;5;28;01mreturn\u001b[39;00m \u001b[38;5;28mmin\u001b[39m(lemmas, key\u001b[38;5;241m=\u001b[39m\u001b[38;5;28mlen\u001b[39m) \u001b[38;5;28;01mif\u001b[39;00m lemmas \u001b[38;5;28;01melse\u001b[39;00m word\n",
      "File \u001b[1;32mC:\\ProgramData\\anaconda3\\lib\\site-packages\\nltk\\corpus\\util.py:121\u001b[0m, in \u001b[0;36mLazyCorpusLoader.__getattr__\u001b[1;34m(self, attr)\u001b[0m\n\u001b[0;32m    118\u001b[0m \u001b[38;5;28;01mif\u001b[39;00m attr \u001b[38;5;241m==\u001b[39m \u001b[38;5;124m\"\u001b[39m\u001b[38;5;124m__bases__\u001b[39m\u001b[38;5;124m\"\u001b[39m:\n\u001b[0;32m    119\u001b[0m     \u001b[38;5;28;01mraise\u001b[39;00m \u001b[38;5;167;01mAttributeError\u001b[39;00m(\u001b[38;5;124m\"\u001b[39m\u001b[38;5;124mLazyCorpusLoader object has no attribute \u001b[39m\u001b[38;5;124m'\u001b[39m\u001b[38;5;124m__bases__\u001b[39m\u001b[38;5;124m'\u001b[39m\u001b[38;5;124m\"\u001b[39m)\n\u001b[1;32m--> 121\u001b[0m \u001b[38;5;28;43mself\u001b[39;49m\u001b[38;5;241;43m.\u001b[39;49m\u001b[43m__load\u001b[49m\u001b[43m(\u001b[49m\u001b[43m)\u001b[49m\n\u001b[0;32m    122\u001b[0m \u001b[38;5;66;03m# This looks circular, but its not, since __load() changes our\u001b[39;00m\n\u001b[0;32m    123\u001b[0m \u001b[38;5;66;03m# __class__ to something new:\u001b[39;00m\n\u001b[0;32m    124\u001b[0m \u001b[38;5;28;01mreturn\u001b[39;00m \u001b[38;5;28mgetattr\u001b[39m(\u001b[38;5;28mself\u001b[39m, attr)\n",
      "File \u001b[1;32mC:\\ProgramData\\anaconda3\\lib\\site-packages\\nltk\\corpus\\util.py:89\u001b[0m, in \u001b[0;36mLazyCorpusLoader.__load\u001b[1;34m(self)\u001b[0m\n\u001b[0;32m     86\u001b[0m             \u001b[38;5;28;01mraise\u001b[39;00m e\n\u001b[0;32m     88\u001b[0m \u001b[38;5;66;03m# Load the corpus.\u001b[39;00m\n\u001b[1;32m---> 89\u001b[0m corpus \u001b[38;5;241m=\u001b[39m \u001b[38;5;28mself\u001b[39m\u001b[38;5;241m.\u001b[39m__reader_cls(root, \u001b[38;5;241m*\u001b[39m\u001b[38;5;28mself\u001b[39m\u001b[38;5;241m.\u001b[39m__args, \u001b[38;5;241m*\u001b[39m\u001b[38;5;241m*\u001b[39m\u001b[38;5;28mself\u001b[39m\u001b[38;5;241m.\u001b[39m__kwargs)\n\u001b[0;32m     91\u001b[0m \u001b[38;5;66;03m# This is where the magic happens!  Transform ourselves into\u001b[39;00m\n\u001b[0;32m     92\u001b[0m \u001b[38;5;66;03m# the corpus by modifying our own __dict__ and __class__ to\u001b[39;00m\n\u001b[0;32m     93\u001b[0m \u001b[38;5;66;03m# match that of the corpus.\u001b[39;00m\n\u001b[0;32m     95\u001b[0m args, kwargs \u001b[38;5;241m=\u001b[39m \u001b[38;5;28mself\u001b[39m\u001b[38;5;241m.\u001b[39m__args, \u001b[38;5;28mself\u001b[39m\u001b[38;5;241m.\u001b[39m__kwargs\n",
      "File \u001b[1;32mC:\\ProgramData\\anaconda3\\lib\\site-packages\\nltk\\corpus\\reader\\wordnet.py:1176\u001b[0m, in \u001b[0;36mWordNetCorpusReader.__init__\u001b[1;34m(self, root, omw_reader)\u001b[0m\n\u001b[0;32m   1172\u001b[0m     warnings\u001b[38;5;241m.\u001b[39mwarn(\n\u001b[0;32m   1173\u001b[0m         \u001b[38;5;124m\"\u001b[39m\u001b[38;5;124mThe multilingual functions are not available with this Wordnet version\u001b[39m\u001b[38;5;124m\"\u001b[39m\n\u001b[0;32m   1174\u001b[0m     )\n\u001b[0;32m   1175\u001b[0m \u001b[38;5;28;01melse\u001b[39;00m:\n\u001b[1;32m-> 1176\u001b[0m     \u001b[38;5;28mself\u001b[39m\u001b[38;5;241m.\u001b[39mprovenances \u001b[38;5;241m=\u001b[39m \u001b[38;5;28;43mself\u001b[39;49m\u001b[38;5;241;43m.\u001b[39;49m\u001b[43momw_prov\u001b[49m\u001b[43m(\u001b[49m\u001b[43m)\u001b[49m\n\u001b[0;32m   1178\u001b[0m \u001b[38;5;66;03m# A cache to store the wordnet data of multiple languages\u001b[39;00m\n\u001b[0;32m   1179\u001b[0m \u001b[38;5;28mself\u001b[39m\u001b[38;5;241m.\u001b[39m_lang_data \u001b[38;5;241m=\u001b[39m defaultdict(\u001b[38;5;28mlist\u001b[39m)\n",
      "File \u001b[1;32mC:\\ProgramData\\anaconda3\\lib\\site-packages\\nltk\\corpus\\reader\\wordnet.py:1285\u001b[0m, in \u001b[0;36mWordNetCorpusReader.omw_prov\u001b[1;34m(self)\u001b[0m\n\u001b[0;32m   1283\u001b[0m provdict \u001b[38;5;241m=\u001b[39m {}\n\u001b[0;32m   1284\u001b[0m provdict[\u001b[38;5;124m\"\u001b[39m\u001b[38;5;124meng\u001b[39m\u001b[38;5;124m\"\u001b[39m] \u001b[38;5;241m=\u001b[39m \u001b[38;5;124m\"\u001b[39m\u001b[38;5;124m\"\u001b[39m\n\u001b[1;32m-> 1285\u001b[0m fileids \u001b[38;5;241m=\u001b[39m \u001b[38;5;28;43mself\u001b[39;49m\u001b[38;5;241;43m.\u001b[39;49m\u001b[43m_omw_reader\u001b[49m\u001b[38;5;241;43m.\u001b[39;49m\u001b[43mfileids\u001b[49m()\n\u001b[0;32m   1286\u001b[0m \u001b[38;5;28;01mfor\u001b[39;00m fileid \u001b[38;5;129;01min\u001b[39;00m fileids:\n\u001b[0;32m   1287\u001b[0m     prov, langfile \u001b[38;5;241m=\u001b[39m os\u001b[38;5;241m.\u001b[39mpath\u001b[38;5;241m.\u001b[39msplit(fileid)\n",
      "File \u001b[1;32mC:\\ProgramData\\anaconda3\\lib\\site-packages\\nltk\\corpus\\util.py:121\u001b[0m, in \u001b[0;36mLazyCorpusLoader.__getattr__\u001b[1;34m(self, attr)\u001b[0m\n\u001b[0;32m    118\u001b[0m \u001b[38;5;28;01mif\u001b[39;00m attr \u001b[38;5;241m==\u001b[39m \u001b[38;5;124m\"\u001b[39m\u001b[38;5;124m__bases__\u001b[39m\u001b[38;5;124m\"\u001b[39m:\n\u001b[0;32m    119\u001b[0m     \u001b[38;5;28;01mraise\u001b[39;00m \u001b[38;5;167;01mAttributeError\u001b[39;00m(\u001b[38;5;124m\"\u001b[39m\u001b[38;5;124mLazyCorpusLoader object has no attribute \u001b[39m\u001b[38;5;124m'\u001b[39m\u001b[38;5;124m__bases__\u001b[39m\u001b[38;5;124m'\u001b[39m\u001b[38;5;124m\"\u001b[39m)\n\u001b[1;32m--> 121\u001b[0m \u001b[38;5;28;43mself\u001b[39;49m\u001b[38;5;241;43m.\u001b[39;49m\u001b[43m__load\u001b[49m\u001b[43m(\u001b[49m\u001b[43m)\u001b[49m\n\u001b[0;32m    122\u001b[0m \u001b[38;5;66;03m# This looks circular, but its not, since __load() changes our\u001b[39;00m\n\u001b[0;32m    123\u001b[0m \u001b[38;5;66;03m# __class__ to something new:\u001b[39;00m\n\u001b[0;32m    124\u001b[0m \u001b[38;5;28;01mreturn\u001b[39;00m \u001b[38;5;28mgetattr\u001b[39m(\u001b[38;5;28mself\u001b[39m, attr)\n",
      "File \u001b[1;32mC:\\ProgramData\\anaconda3\\lib\\site-packages\\nltk\\corpus\\util.py:86\u001b[0m, in \u001b[0;36mLazyCorpusLoader.__load\u001b[1;34m(self)\u001b[0m\n\u001b[0;32m     84\u001b[0m             root \u001b[38;5;241m=\u001b[39m nltk\u001b[38;5;241m.\u001b[39mdata\u001b[38;5;241m.\u001b[39mfind(\u001b[38;5;124mf\u001b[39m\u001b[38;5;124m\"\u001b[39m\u001b[38;5;132;01m{\u001b[39;00m\u001b[38;5;28mself\u001b[39m\u001b[38;5;241m.\u001b[39msubdir\u001b[38;5;132;01m}\u001b[39;00m\u001b[38;5;124m/\u001b[39m\u001b[38;5;132;01m{\u001b[39;00mzip_name\u001b[38;5;132;01m}\u001b[39;00m\u001b[38;5;124m\"\u001b[39m)\n\u001b[0;32m     85\u001b[0m         \u001b[38;5;28;01mexcept\u001b[39;00m \u001b[38;5;167;01mLookupError\u001b[39;00m:\n\u001b[1;32m---> 86\u001b[0m             \u001b[38;5;28;01mraise\u001b[39;00m e\n\u001b[0;32m     88\u001b[0m \u001b[38;5;66;03m# Load the corpus.\u001b[39;00m\n\u001b[0;32m     89\u001b[0m corpus \u001b[38;5;241m=\u001b[39m \u001b[38;5;28mself\u001b[39m\u001b[38;5;241m.\u001b[39m__reader_cls(root, \u001b[38;5;241m*\u001b[39m\u001b[38;5;28mself\u001b[39m\u001b[38;5;241m.\u001b[39m__args, \u001b[38;5;241m*\u001b[39m\u001b[38;5;241m*\u001b[39m\u001b[38;5;28mself\u001b[39m\u001b[38;5;241m.\u001b[39m__kwargs)\n",
      "File \u001b[1;32mC:\\ProgramData\\anaconda3\\lib\\site-packages\\nltk\\corpus\\util.py:81\u001b[0m, in \u001b[0;36mLazyCorpusLoader.__load\u001b[1;34m(self)\u001b[0m\n\u001b[0;32m     79\u001b[0m \u001b[38;5;28;01melse\u001b[39;00m:\n\u001b[0;32m     80\u001b[0m     \u001b[38;5;28;01mtry\u001b[39;00m:\n\u001b[1;32m---> 81\u001b[0m         root \u001b[38;5;241m=\u001b[39m \u001b[43mnltk\u001b[49m\u001b[38;5;241;43m.\u001b[39;49m\u001b[43mdata\u001b[49m\u001b[38;5;241;43m.\u001b[39;49m\u001b[43mfind\u001b[49m\u001b[43m(\u001b[49m\u001b[38;5;124;43mf\u001b[39;49m\u001b[38;5;124;43m\"\u001b[39;49m\u001b[38;5;132;43;01m{\u001b[39;49;00m\u001b[38;5;28;43mself\u001b[39;49m\u001b[38;5;241;43m.\u001b[39;49m\u001b[43msubdir\u001b[49m\u001b[38;5;132;43;01m}\u001b[39;49;00m\u001b[38;5;124;43m/\u001b[39;49m\u001b[38;5;132;43;01m{\u001b[39;49;00m\u001b[38;5;28;43mself\u001b[39;49m\u001b[38;5;241;43m.\u001b[39;49m\u001b[43m__name\u001b[49m\u001b[38;5;132;43;01m}\u001b[39;49;00m\u001b[38;5;124;43m\"\u001b[39;49m\u001b[43m)\u001b[49m\n\u001b[0;32m     82\u001b[0m     \u001b[38;5;28;01mexcept\u001b[39;00m \u001b[38;5;167;01mLookupError\u001b[39;00m \u001b[38;5;28;01mas\u001b[39;00m e:\n\u001b[0;32m     83\u001b[0m         \u001b[38;5;28;01mtry\u001b[39;00m:\n",
      "File \u001b[1;32mC:\\ProgramData\\anaconda3\\lib\\site-packages\\nltk\\data.py:583\u001b[0m, in \u001b[0;36mfind\u001b[1;34m(resource_name, paths)\u001b[0m\n\u001b[0;32m    581\u001b[0m sep \u001b[38;5;241m=\u001b[39m \u001b[38;5;124m\"\u001b[39m\u001b[38;5;124m*\u001b[39m\u001b[38;5;124m\"\u001b[39m \u001b[38;5;241m*\u001b[39m \u001b[38;5;241m70\u001b[39m\n\u001b[0;32m    582\u001b[0m resource_not_found \u001b[38;5;241m=\u001b[39m \u001b[38;5;124mf\u001b[39m\u001b[38;5;124m\"\u001b[39m\u001b[38;5;130;01m\\n\u001b[39;00m\u001b[38;5;132;01m{\u001b[39;00msep\u001b[38;5;132;01m}\u001b[39;00m\u001b[38;5;130;01m\\n\u001b[39;00m\u001b[38;5;132;01m{\u001b[39;00mmsg\u001b[38;5;132;01m}\u001b[39;00m\u001b[38;5;130;01m\\n\u001b[39;00m\u001b[38;5;132;01m{\u001b[39;00msep\u001b[38;5;132;01m}\u001b[39;00m\u001b[38;5;130;01m\\n\u001b[39;00m\u001b[38;5;124m\"\u001b[39m\n\u001b[1;32m--> 583\u001b[0m \u001b[38;5;28;01mraise\u001b[39;00m \u001b[38;5;167;01mLookupError\u001b[39;00m(resource_not_found)\n",
      "\u001b[1;31mLookupError\u001b[0m: \n**********************************************************************\n  Resource \u001b[93momw-1.4\u001b[0m not found.\n  Please use the NLTK Downloader to obtain the resource:\n\n  \u001b[31m>>> import nltk\n  >>> nltk.download('omw-1.4')\n  \u001b[0m\n  For more information see: https://www.nltk.org/data.html\n\n  Attempted to load \u001b[93mcorpora/omw-1.4\u001b[0m\n\n  Searched in:\n    - 'C:\\\\Users\\\\KARTHIKA/nltk_data'\n    - 'C:\\\\ProgramData\\\\anaconda3\\\\nltk_data'\n    - 'C:\\\\ProgramData\\\\anaconda3\\\\share\\\\nltk_data'\n    - 'C:\\\\ProgramData\\\\anaconda3\\\\lib\\\\nltk_data'\n    - 'C:\\\\Users\\\\KARTHIKA\\\\AppData\\\\Roaming\\\\nltk_data'\n    - 'C:\\\\nltk_data'\n    - 'D:\\\\nltk_data'\n    - 'E:\\\\nltk_data'\n**********************************************************************\n"
     ]
    }
   ],
   "source": [
    "#Applying preprocessing and removing '\\n' character\n",
    "\n",
    "for i in range(df.shape[0]):\n",
    "    df['Abstract'][i]=preprocessing(str(df['Abstract'][i])) \n",
    "for text in df.Abstract:\n",
    "\n",
    "    text=text.replace('\\n',' ')    "
   ]
  },
  {
   "cell_type": "code",
   "execution_count": null,
   "metadata": {},
   "outputs": [],
   "source": [
    "df.head()"
   ]
  },
  {
   "cell_type": "code",
   "execution_count": null,
   "metadata": {},
   "outputs": [],
   "source": [
    "df['Abstract'][0]"
   ]
  },
  {
   "cell_type": "code",
   "execution_count": null,
   "metadata": {},
   "outputs": [],
   "source": [
    "#Applying preprocessing and removing '\\n' character\n",
    "\n",
    "for i in range(df.shape[0]):\n",
    "    df['Title'][i]=preprocessing(str(df['Title'][i])) \n",
    "for text in df.Title:\n",
    "\n",
    "    text=text.replace('\\n',' ') "
   ]
  },
  {
   "cell_type": "code",
   "execution_count": null,
   "metadata": {},
   "outputs": [],
   "source": [
    "x=[word_tokenize(word) for word in df.Abstract ]   #Tokenizing data for training purpose"
   ]
  },
  {
   "cell_type": "markdown",
   "metadata": {},
   "source": [
    "# Exploratory data analysis"
   ]
  },
  {
   "cell_type": "code",
   "execution_count": null,
   "metadata": {},
   "outputs": [],
   "source": [
    "from collections import Counter\n",
    "cnt = Counter()\n",
    "for text in df[\"Abstract\"].values:\n",
    "    for word in text.split():\n",
    "        cnt[word] += 1\n",
    "        \n",
    "cnt.most_common(10)  #top 10 common words"
   ]
  },
  {
   "cell_type": "markdown",
   "metadata": {},
   "source": [
    "explain the above EDA "
   ]
  },
  {
   "cell_type": "code",
   "execution_count": null,
   "metadata": {},
   "outputs": [],
   "source": [
    "!pip install wordcloud"
   ]
  },
  {
   "cell_type": "markdown",
   "metadata": {},
   "source": [
    "We can do the above with a wordcloud that uses the freqeuncy and colors of words in a pciture format to understand the corpus "
   ]
  },
  {
   "cell_type": "code",
   "execution_count": null,
   "metadata": {},
   "outputs": [],
   "source": [
    "#Final word cloud after all the cleaning and pre-processing\n",
    "from wordcloud import WordCloud\n",
    "from textwrap import wrap\n",
    "import matplotlib.pyplot as plt\n",
    "from wordcloud import WordCloud, STOPWORDS\n",
    "#comment_words = ' '\n",
    "stopwords = set(STOPWORDS) \n",
    "from pandas.core.common import flatten\n",
    "\n",
    "# iterate through the csv file \n",
    "\n",
    "\n",
    "comment_words=flatten(x)\n",
    "comment_words=' '.join(comment_words)\n",
    "\n",
    "\n",
    "wordcloud = WordCloud(width = 800, height = 800, \n",
    "            background_color ='white', \n",
    "            stopwords = stopwords, \n",
    "            min_font_size = 10).generate(comment_words) \n",
    "\n",
    "# plot the WordCloud image                        \n",
    "plt.figure(figsize = (8, 8), facecolor = None) \n",
    "plt.imshow(wordcloud) \n",
    "plt.axis(\"off\") \n",
    "plt.tight_layout(pad = 0) \n",
    "\n",
    "plt.show() "
   ]
  },
  {
   "cell_type": "markdown",
   "metadata": {},
   "source": [
    "# Training skipgram model\n"
   ]
  },
  {
   "cell_type": "code",
   "execution_count": null,
   "metadata": {},
   "outputs": [],
   "source": [
    "# training the model\n",
    "skipgram = Word2Vec(x, vector_size =50, window = 3, min_count=2,sg = 1)\n",
    "print(skipgram)\n",
    "skipgram.save('skipgramx1.bin')"
   ]
  },
  {
   "cell_type": "code",
   "execution_count": null,
   "metadata": {},
   "outputs": [],
   "source": [
    "# training the model\n",
    "\n",
    "skipgram = Word2Vec(x, vector_size =100, window = 1, min_count=2,sg = 1)\n",
    "print(skipgram)\n",
    "skipgram.save('skipgramx11.bin')\n"
   ]
  },
  {
   "cell_type": "code",
   "execution_count": null,
   "metadata": {},
   "outputs": [],
   "source": [
    "# Loading the model\n",
    "\n",
    "skipgram = Word2Vec.load('skipgramx11.bin')"
   ]
  },
  {
   "cell_type": "markdown",
   "metadata": {},
   "source": [
    "\n",
    "# Training Fasttext model"
   ]
  },
  {
   "cell_type": "code",
   "execution_count": null,
   "metadata": {},
   "outputs": [],
   "source": [
    "fast_n= FastText(x,vector_size=200, \n",
    "                 window=3, min_count=2,\n",
    "                 workers=5, min_n=1,max_n=2,sg=1)  #training fasttext Model, with skipgram\n",
    "fast_n=fast_n.save('fast_p.bin')    #Saving our model\n",
    "\n",
    "fast_n = Word2Vec.load('fast_p.bin')  #Loading our pretrained model\n"
   ]
  },
  {
   "cell_type": "code",
   "execution_count": null,
   "metadata": {},
   "outputs": [],
   "source": [
    "FastText=FastText(x,vector_size=100, \n",
    "                  window=2, min_count=2,\n",
    "                  workers=5, min_n=1, max_n=2,sg=1)\n",
    "                  \n",
    "FastText.save('FastText.bin')    #Saving our model\n",
    "FastText = Word2Vec.load('FastText.bin')  #Loading our pretrained model"
   ]
  },
  {
   "cell_type": "markdown",
   "metadata": {},
   "source": [
    "## Model embeddings - Similarity"
   ]
  },
  {
   "cell_type": "code",
   "execution_count": 9,
   "metadata": {},
   "outputs": [
    {
     "ename": "NameError",
     "evalue": "name 'skipgram' is not defined",
     "output_type": "error",
     "traceback": [
      "\u001b[1;31m---------------------------------------------------------------------------\u001b[0m",
      "\u001b[1;31mNameError\u001b[0m                                 Traceback (most recent call last)",
      "Cell \u001b[1;32mIn[9], line 3\u001b[0m\n\u001b[0;32m      1\u001b[0m \u001b[38;5;66;03m# Similar words - skipgram\u001b[39;00m\n\u001b[1;32m----> 3\u001b[0m \u001b[43mskipgram\u001b[49m\u001b[38;5;241m.\u001b[39mwv\u001b[38;5;241m.\u001b[39mmost_similar(positive\u001b[38;5;241m=\u001b[39m[\u001b[38;5;124m'\u001b[39m\u001b[38;5;124mcorona\u001b[39m\u001b[38;5;124m'\u001b[39m],topn\u001b[38;5;241m=\u001b[39m\u001b[38;5;241m10\u001b[39m)\n",
      "\u001b[1;31mNameError\u001b[0m: name 'skipgram' is not defined"
     ]
    }
   ],
   "source": [
    "# Similar words - skipgram\n",
    "\n",
    "skipgram.wv.most_similar(positive=['corona'],topn=10)"
   ]
  },
  {
   "cell_type": "code",
   "execution_count": 10,
   "metadata": {},
   "outputs": [
    {
     "ename": "NameError",
     "evalue": "name 'skipgram' is not defined",
     "output_type": "error",
     "traceback": [
      "\u001b[1;31m---------------------------------------------------------------------------\u001b[0m",
      "\u001b[1;31mNameError\u001b[0m                                 Traceback (most recent call last)",
      "Cell \u001b[1;32mIn[10], line 1\u001b[0m\n\u001b[1;32m----> 1\u001b[0m \u001b[43mskipgram\u001b[49m\u001b[38;5;241m.\u001b[39mwv\u001b[38;5;241m.\u001b[39mmost_similar(positive\u001b[38;5;241m=\u001b[39m[\u001b[38;5;124m'\u001b[39m\u001b[38;5;124mpatient\u001b[39m\u001b[38;5;124m'\u001b[39m],topn\u001b[38;5;241m=\u001b[39m\u001b[38;5;241m10\u001b[39m)\n",
      "\u001b[1;31mNameError\u001b[0m: name 'skipgram' is not defined"
     ]
    }
   ],
   "source": [
    "skipgram.wv.most_similar(positive=['patient'],topn=10)"
   ]
  },
  {
   "cell_type": "code",
   "execution_count": 11,
   "metadata": {},
   "outputs": [
    {
     "ename": "NameError",
     "evalue": "name 'skipgram' is not defined",
     "output_type": "error",
     "traceback": [
      "\u001b[1;31m---------------------------------------------------------------------------\u001b[0m",
      "\u001b[1;31mNameError\u001b[0m                                 Traceback (most recent call last)",
      "Cell \u001b[1;32mIn[11], line 1\u001b[0m\n\u001b[1;32m----> 1\u001b[0m \u001b[43mskipgram\u001b[49m\u001b[38;5;241m.\u001b[39mwv\u001b[38;5;241m.\u001b[39mmost_similar(positive\u001b[38;5;241m=\u001b[39m[\u001b[38;5;124m'\u001b[39m\u001b[38;5;124mlung\u001b[39m\u001b[38;5;124m'\u001b[39m],topn\u001b[38;5;241m=\u001b[39m\u001b[38;5;241m10\u001b[39m)\n",
      "\u001b[1;31mNameError\u001b[0m: name 'skipgram' is not defined"
     ]
    }
   ],
   "source": [
    "skipgram.wv.most_similar(positive=['lung'],topn=10)"
   ]
  },
  {
   "cell_type": "code",
   "execution_count": 12,
   "metadata": {},
   "outputs": [
    {
     "ename": "AttributeError",
     "evalue": "type object 'FastText' has no attribute 'wv'",
     "output_type": "error",
     "traceback": [
      "\u001b[1;31m---------------------------------------------------------------------------\u001b[0m",
      "\u001b[1;31mAttributeError\u001b[0m                            Traceback (most recent call last)",
      "Cell \u001b[1;32mIn[12], line 3\u001b[0m\n\u001b[0;32m      1\u001b[0m \u001b[38;5;66;03m# Similar words - fasttext\u001b[39;00m\n\u001b[1;32m----> 3\u001b[0m \u001b[43mFastText\u001b[49m\u001b[38;5;241;43m.\u001b[39;49m\u001b[43mwv\u001b[49m\u001b[38;5;241m.\u001b[39mmost_similar(positive\u001b[38;5;241m=\u001b[39m[\u001b[38;5;124m'\u001b[39m\u001b[38;5;124mlung\u001b[39m\u001b[38;5;124m'\u001b[39m],topn\u001b[38;5;241m=\u001b[39m\u001b[38;5;241m10\u001b[39m)\n",
      "\u001b[1;31mAttributeError\u001b[0m: type object 'FastText' has no attribute 'wv'"
     ]
    }
   ],
   "source": [
    "# Similar words - fasttext\n",
    "\n",
    "FastText.wv.most_similar(positive=['lung'],topn=10)"
   ]
  },
  {
   "cell_type": "code",
   "execution_count": 13,
   "metadata": {},
   "outputs": [
    {
     "ename": "NameError",
     "evalue": "name 'skipgram' is not defined",
     "output_type": "error",
     "traceback": [
      "\u001b[1;31m---------------------------------------------------------------------------\u001b[0m",
      "\u001b[1;31mNameError\u001b[0m                                 Traceback (most recent call last)",
      "Cell \u001b[1;32mIn[13], line 1\u001b[0m\n\u001b[1;32m----> 1\u001b[0m \u001b[43mskipgram\u001b[49m\u001b[38;5;241m.\u001b[39mwv\u001b[38;5;241m.\u001b[39mmost_similar(positive\u001b[38;5;241m=\u001b[39m[\u001b[38;5;124m'\u001b[39m\u001b[38;5;124mbreathing\u001b[39m\u001b[38;5;124m'\u001b[39m],topn\u001b[38;5;241m=\u001b[39m\u001b[38;5;241m10\u001b[39m)\n",
      "\u001b[1;31mNameError\u001b[0m: name 'skipgram' is not defined"
     ]
    }
   ],
   "source": [
    "skipgram.wv.most_similar(positive=['breathing'],topn=10)"
   ]
  },
  {
   "cell_type": "code",
   "execution_count": 14,
   "metadata": {},
   "outputs": [
    {
     "ename": "AttributeError",
     "evalue": "type object 'FastText' has no attribute 'wv'",
     "output_type": "error",
     "traceback": [
      "\u001b[1;31m---------------------------------------------------------------------------\u001b[0m",
      "\u001b[1;31mAttributeError\u001b[0m                            Traceback (most recent call last)",
      "Cell \u001b[1;32mIn[14], line 1\u001b[0m\n\u001b[1;32m----> 1\u001b[0m \u001b[43mFastText\u001b[49m\u001b[38;5;241;43m.\u001b[39;49m\u001b[43mwv\u001b[49m\u001b[38;5;241m.\u001b[39mmost_similar(positive\u001b[38;5;241m=\u001b[39m[\u001b[38;5;124m'\u001b[39m\u001b[38;5;124mbreathing\u001b[39m\u001b[38;5;124m'\u001b[39m],topn\u001b[38;5;241m=\u001b[39m\u001b[38;5;241m10\u001b[39m)\n",
      "\u001b[1;31mAttributeError\u001b[0m: type object 'FastText' has no attribute 'wv'"
     ]
    }
   ],
   "source": [
    "FastText.wv.most_similar(positive=['breathing'],topn=10)"
   ]
  },
  {
   "cell_type": "markdown",
   "metadata": {},
   "source": [
    "# PCA Plot - Skipgram"
   ]
  },
  {
   "cell_type": "code",
   "execution_count": 35,
   "metadata": {},
   "outputs": [],
   "source": [
    "X = skipgram.wv[skipgram.wv.index_to_key]    #stroing arrays of all words\n",
    "pca = PCA(n_components=2)                    #applying PCA to convert data into two dimensions\n",
    "result = pca.fit_transform(X)"
   ]
  },
  {
   "cell_type": "code",
   "execution_count": 36,
   "metadata": {},
   "outputs": [
    {
     "data": {
      "image/png": "[encoded data removed]",
      "text/plain": [
       "<Figure size 432x288 with 1 Axes>"
      ]
     },
     "metadata": {
      "needs_background": "light"
     },
     "output_type": "display_data"
    }
   ],
   "source": [
    "#words embeddings on the plot to check 2-D representation of each word\n",
    "pyplot.scatter(result[:10, 0], result[:10, 1])\n",
    "words = list(skipgram.wv.index_to_key)\n",
    "for i, word in enumerate(words[:10]):\n",
    "    pyplot.annotate(word, xy=(result[i, 0], result[i, 1]))\n",
    "pyplot.show()"
   ]
  },
  {
   "cell_type": "markdown",
   "metadata": {},
   "source": [
    "# PCA Plot - FastText"
   ]
  },
  {
   "cell_type": "code",
   "execution_count": 37,
   "metadata": {},
   "outputs": [],
   "source": [
    "#same thing as above but with fasttext model\n",
    "X_fast = FastText.wv[FastText.wv.index_to_key]\n",
    "pca = PCA(n_components=2)\n",
    "result_fast = pca.fit_transform(X_fast)"
   ]
  },
  {
   "cell_type": "code",
   "execution_count": 38,
   "metadata": {},
   "outputs": [
    {
     "data": {
      "image/png": "[encoded data removed]",
      "text/plain": [
       "<Figure size 432x288 with 1 Axes>"
      ]
     },
     "metadata": {
      "needs_background": "light"
     },
     "output_type": "display_data"
    }
   ],
   "source": [
    "pyplot.scatter(result_fast[:10, 0], result_fast[:10, 1])\n",
    "words = list(FastText.wv.index_to_key)\n",
    "for i, word in enumerate(words[:10]):\n",
    "    pyplot.annotate(word, xy=(result_fast[i, 0], result_fast[i, 1]))\n",
    "pyplot.show()"
   ]
  },
  {
   "cell_type": "markdown",
   "metadata": {},
   "source": [
    "# Getting Vectors for each abstract\n"
   ]
  },
  {
   "cell_type": "code",
   "execution_count": 39,
   "metadata": {},
   "outputs": [],
   "source": [
    "vector_size=100   #defining vector size for each word"
   ]
  },
  {
   "cell_type": "markdown",
   "metadata": {},
   "source": [
    "### Method 1"
   ]
  },
  {
   "cell_type": "code",
   "execution_count": 46,
   "metadata": {},
   "outputs": [
    {
     "data": {
      "text/plain": [
       "['aim',\n",
       " 'determine',\n",
       " 'coronavirus',\n",
       " 'anxiety',\n",
       " 'level',\n",
       " 'emotional',\n",
       " 'eating',\n",
       " 'status',\n",
       " 'case',\n",
       " 'diagnosis',\n",
       " 'mets',\n",
       " 'according',\n",
       " 'diagnostic',\n",
       " 'criterion',\n",
       " 'published',\n",
       " 'international',\n",
       " 'diabetic',\n",
       " 'federation',\n",
       " 'idf',\n",
       " 'healthy',\n",
       " 'individual',\n",
       " 'similar',\n",
       " 'bmi',\n",
       " 'mets',\n",
       " 'subject',\n",
       " 'detailed',\n",
       " 'description',\n",
       " 'aim',\n",
       " 'determine',\n",
       " 'coronavirus',\n",
       " 'anxiety',\n",
       " 'level',\n",
       " 'emotional',\n",
       " 'eating',\n",
       " 'status',\n",
       " 'case',\n",
       " 'diagnosis',\n",
       " 'mets',\n",
       " 'according',\n",
       " 'diagnostic',\n",
       " 'criterion',\n",
       " 'published',\n",
       " 'international',\n",
       " 'diabetic',\n",
       " 'federation',\n",
       " 'idf',\n",
       " 'healthy',\n",
       " 'individual',\n",
       " 'similar',\n",
       " 'bmi',\n",
       " 'mets',\n",
       " 'subject',\n",
       " 'study',\n",
       " 'completed',\n",
       " 'descriptive',\n",
       " 'cross',\n",
       " 'sectional',\n",
       " 'relational',\n",
       " 'screening',\n",
       " 'model',\n",
       " 'full',\n",
       " 'sampling',\n",
       " 'method',\n",
       " 'used',\n",
       " 'study',\n",
       " 'study',\n",
       " 'completed',\n",
       " 'individual',\n",
       " 'metabolic',\n",
       " 'syndrome',\n",
       " 'attending',\n",
       " 'diet',\n",
       " 'clinic',\n",
       " 'healthy',\n",
       " 'individual',\n",
       " 'without',\n",
       " 'mets',\n",
       " 'diagnosis',\n",
       " 'also',\n",
       " 'attending',\n",
       " 'diet',\n",
       " 'clinic',\n",
       " 'collection',\n",
       " 'data',\n",
       " 'used',\n",
       " 'anthropometric',\n",
       " 'measurement',\n",
       " 'biochemical',\n",
       " 'finding',\n",
       " 'blood',\n",
       " 'pressure',\n",
       " 'survey',\n",
       " 'form',\n",
       " 'coronavirus',\n",
       " 'anxiety',\n",
       " 'scale',\n",
       " 'ca',\n",
       " 'emotional',\n",
       " 'eating',\n",
       " 'scale',\n",
       " 'ee']"
      ]
     },
     "execution_count": 46,
     "metadata": {},
     "output_type": "execute_result"
    }
   ],
   "source": [
    "word_tokenize(df['Abstract'][0])"
   ]
  },
  {
   "cell_type": "code",
   "execution_count": 47,
   "metadata": {},
   "outputs": [
    {
     "ename": "KeyboardInterrupt",
     "evalue": "",
     "output_type": "error",
     "traceback": [
      "\u001b[0;31m---------------------------------------------------------------------------\u001b[0m",
      "\u001b[0;31mKeyboardInterrupt\u001b[0m                         Traceback (most recent call last)",
      "\u001b[0;32m<ipython-input-47-e270f3574b4f>\u001b[0m in \u001b[0;36m<module>\u001b[0;34m\u001b[0m\n\u001b[1;32m      9\u001b[0m     \u001b[0;32mfor\u001b[0m \u001b[0mword\u001b[0m \u001b[0;32min\u001b[0m \u001b[0mword_tokenize\u001b[0m\u001b[0;34m(\u001b[0m\u001b[0mdf\u001b[0m\u001b[0;34m[\u001b[0m\u001b[0;34m'Abstract'\u001b[0m\u001b[0;34m]\u001b[0m\u001b[0;34m[\u001b[0m\u001b[0mi\u001b[0m\u001b[0;34m]\u001b[0m\u001b[0;34m)\u001b[0m\u001b[0;34m:\u001b[0m   \u001b[0;31m#iterating through all words in given abstract\u001b[0m\u001b[0;34m\u001b[0m\u001b[0;34m\u001b[0m\u001b[0m\n\u001b[1;32m     10\u001b[0m \u001b[0;34m\u001b[0m\u001b[0m\n\u001b[0;32m---> 11\u001b[0;31m         \u001b[0;32mif\u001b[0m \u001b[0mword\u001b[0m \u001b[0;32min\u001b[0m \u001b[0mlist\u001b[0m\u001b[0;34m(\u001b[0m\u001b[0mFastText\u001b[0m\u001b[0;34m.\u001b[0m\u001b[0mwv\u001b[0m\u001b[0;34m.\u001b[0m\u001b[0mindex_to_key\u001b[0m\u001b[0;34m)\u001b[0m\u001b[0;34m:\u001b[0m      \u001b[0;31m#if word exists in vocab , increase count by 1 and add array of given words in our defined array K\u001b[0m\u001b[0;34m\u001b[0m\u001b[0;34m\u001b[0m\u001b[0m\n\u001b[0m\u001b[1;32m     12\u001b[0m \u001b[0;34m\u001b[0m\u001b[0m\n\u001b[1;32m     13\u001b[0m             \u001b[0mcount\u001b[0m\u001b[0;34m+=\u001b[0m\u001b[0;36m1\u001b[0m\u001b[0;34m\u001b[0m\u001b[0;34m\u001b[0m\u001b[0m\n",
      "\u001b[0;31mKeyboardInterrupt\u001b[0m: "
     ]
    }
   ],
   "source": [
    "#function to take average of all vectors of each word in abstract, so that each abstract can represent (1,100) dimensional vector\n",
    "\n",
    "K1=[]      #creating list to store vector representation of each abstract\n",
    "\n",
    "for i in range(df.shape[0]):       #iterating through all abstract\n",
    "    K=np.zeros([vector_size,1])    #creating empty array of size (vec_size,1) to add vector representation of each word\n",
    "    count=0                        #creating count to check how many words are used from abstract\n",
    "    \n",
    "    for word in word_tokenize(df['Abstract'][i]):   #iterating through all words in given abstract\n",
    "\n",
    "        if word in list(FastText.wv.index_to_key):      #if word exists in vocab , increase count by 1 and add array of given words in our defined array K\n",
    "\n",
    "            count+=1\n",
    "            K+=FastText.wv[word].reshape(vector_size,1)\n",
    "    K=K/count                                        #taking average of given array\n",
    "    K1.append(list(K))                               #appending vector of given abstract to the initial defined list\n",
    "K1_array=np.array(K1)\n",
    "K1_array=K1_array.reshape(df.shape[0],vector_size)   #converting into array of shape(no. of rows, vector_size)"
   ]
  },
  {
   "cell_type": "code",
   "execution_count": 48,
   "metadata": {},
   "outputs": [],
   "source": [
    "# Method 1 will take time to run. Method 2 is prefered. "
   ]
  },
  {
   "cell_type": "markdown",
   "metadata": {},
   "source": [
    "### Method 2"
   ]
  },
  {
   "cell_type": "code",
   "execution_count": 49,
   "metadata": {},
   "outputs": [],
   "source": [
    "def get_mean_vector(word2vec_model, words):\n",
    "    # remove out-of-vocabulary words\n",
    "    words = [word for word in tokenize(words) if word in list(word2vec_model.wv.index_to_key)] #if word is in vocab \n",
    "    if len(words) >= 1:\n",
    "        return np.mean(word2vec_model.wv[words], axis=0)\n",
    "    else:\n",
    "        return np.array([0]*100)\n"
   ]
  },
  {
   "cell_type": "markdown",
   "metadata": {},
   "source": [
    "### Abstract to vectors using skipgram Model"
   ]
  },
  {
   "cell_type": "code",
   "execution_count": 50,
   "metadata": {},
   "outputs": [],
   "source": [
    "K1=[]                                     #defining empty list\n",
    "for i in df.Abstract:\n",
    "    K1.append(list(get_mean_vector(skipgram, i)))     #appending array to the list\n",
    "    \n",
    "    \n",
    "K11=pd.DataFrame(K1).transpose()    # Saving vectors of each abstract in data frame so that we can use directly while running code again\n",
    "K11.to_csv('skipgram-vec.csv')"
   ]
  },
  {
   "cell_type": "code",
   "execution_count": 51,
   "metadata": {},
   "outputs": [],
   "source": [
    "K=pd.read_csv('skipgram-vec.csv')   #Loading our pretrained vectors of each abstract\n",
    "\n",
    "skipgram_vectors=[]                          #transforming dataframe into required array like structure as we did in above step\n",
    "for i in range(df.shape[0]):\n",
    "    skipgram_vectors.append(K[str(i)].values)\n",
    " "
   ]
  },
  {
   "cell_type": "markdown",
   "metadata": {},
   "source": [
    "### For converting Title into vectors using skipgram"
   ]
  },
  {
   "cell_type": "code",
   "execution_count": 52,
   "metadata": {},
   "outputs": [],
   "source": [
    "K1_title=[]\n",
    "for i in df.Title:         #instead of abstract use title\n",
    "    K1_title.append(list(get_mean_vector(skipgram, i)))    \n",
    "\n",
    "    \n",
    "K1_title=pd.DataFrame(K1).transpose()    # Saving vectors of each tilte in data frame so that we can use directly while running code again\n",
    "K1_title.to_csv('skipgram-vec-title.csv')    "
   ]
  },
  {
   "cell_type": "code",
   "execution_count": 53,
   "metadata": {},
   "outputs": [],
   "source": [
    "K=pd.read_csv('skipgram-vec-title.csv')   #Loading our pretrained vectors of each title\n",
    "\n",
    "K2_title=[]                          #transforming dataframe into required array like structure as we did in above step\n",
    "for i in range(df.shape[0]):\n",
    "    K2_title.append(K[str(i)].values)"
   ]
  },
  {
   "cell_type": "markdown",
   "metadata": {},
   "source": [
    "### Abstract to vector using FastText "
   ]
  },
  {
   "cell_type": "code",
   "execution_count": 54,
   "metadata": {},
   "outputs": [],
   "source": [
    "K_fast=[]                                     #defining empty list\n",
    "for i in df.Abstract:\n",
    "    K_fast.append(list(get_mean_vector(FastText, i)))     #appending array to the list\n",
    "    \n",
    "K11=pd.DataFrame(K_fast).transpose()    # Saving vectors of each abstract in data frame so that we can use directly while running code again\n",
    "K11.to_csv('FastText-vec.csv')"
   ]
  },
  {
   "cell_type": "code",
   "execution_count": 55,
   "metadata": {},
   "outputs": [],
   "source": [
    "data=pd.read_csv('FastText-vec.csv')   #Loading our pretrained vectors of each abstract\n",
    "\n",
    "fast_vectors=[]                          #transforming dataframe into required array like structure as we did in above step\n",
    "for i in range(df.shape[0]):\n",
    "    fast_vectors.append(data[str(i)].values)"
   ]
  },
  {
   "cell_type": "markdown",
   "metadata": {},
   "source": [
    "# Cosine similarity function"
   ]
  },
  {
   "cell_type": "code",
   "execution_count": 56,
   "metadata": {},
   "outputs": [],
   "source": [
    "#defining function to define cosine similarity\n",
    "\n",
    "from numpy import dot\n",
    "from numpy.linalg import norm\n",
    "\n",
    "def cos_sim(a,b):\n",
    "\n",
    "    return dot(a, b)/(norm(a)*norm(b)) "
   ]
  },
  {
   "cell_type": "markdown",
   "metadata": {},
   "source": [
    "# Input query Preprocessing"
   ]
  },
  {
   "cell_type": "code",
   "execution_count": 57,
   "metadata": {},
   "outputs": [],
   "source": [
    "#Preprocessing input, because input should be in same form as training data set\n",
    "\n",
    "\n",
    "def preprocessing_input(query,word2vec_model):\n",
    "    query=preprocessing(query)\n",
    "    query=query.replace('\\n',' ')\n",
    "    K=get_mean_vector(word2vec_model,query)\n",
    "   \n",
    "        \n",
    "    return K   "
   ]
  },
  {
   "cell_type": "markdown",
   "metadata": {},
   "source": [
    "# Function to return 'n' similar results"
   ]
  },
  {
   "cell_type": "code",
   "execution_count": 58,
   "metadata": {},
   "outputs": [
    {
     "name": "stderr",
     "output_type": "stream",
     "text": [
      "/home/c0d3b23ak32/anaconda3/envs/tensorflow/lib/python3.6/site-packages/ipykernel_launcher.py:1: FutureWarning:\n",
      "\n",
      "Passing a negative integer is deprecated in version 1.0 and will not be supported in future version. Instead, use None to not limit the column width.\n",
      "\n"
     ]
    }
   ],
   "source": [
    "pd.set_option(\"display.max_colwidth\", -1)       #this function will display full text from each column"
   ]
  },
  {
   "cell_type": "code",
   "execution_count": 59,
   "metadata": {},
   "outputs": [],
   "source": [
    "#function to return top n similar results\n",
    "\n",
    "#query - input query\n",
    "# p - average vectors for all abs\n",
    "#df1 - original\n",
    "\n",
    "def top_n(query,p,df1,model):    \n",
    "    print(query)\n",
    "    \n",
    "    query=preprocessing_input(query,model)    #preprocessing input to list of vectors\n",
    "                                    \n",
    "    x=[]\n",
    "    #Converting cosine similarities of overall data set with input queries into LIST\n",
    "    for i in range(len(p)):\n",
    "        x.append(cos_sim(query,p[i]))\n",
    "    \n",
    "    \n",
    " #store list in tmp to retrieve index\n",
    "    tmp=list(x)\n",
    "    \n",
    " #sort list so that largest elements are on the far right\n",
    "    \n",
    "    res = sorted(range(len(x)), key = lambda sub: x[sub])[-5:]\n",
    "    sim=[tmp[i] for i in reversed(res)]\n",
    "    print(sim)\n",
    " #get index of the 10 or n largest element\n",
    "    L=[]\n",
    "    for i in reversed(res):\n",
    "    \n",
    "        L.append(i)\n",
    "    return df1.iloc[L, [1,2,5,6]],sim     #returning dataframe (only id,title,abstract ,publication date)"
   ]
  },
  {
   "cell_type": "code",
   "execution_count": 60,
   "metadata": {},
   "outputs": [],
   "source": [
    "#kidney\n",
    "#breathing\n",
    "#lung failure"
   ]
  },
  {
   "cell_type": "markdown",
   "metadata": {},
   "source": [
    "## Result Evaluation"
   ]
  },
  {
   "cell_type": "code",
   "execution_count": 61,
   "metadata": {},
   "outputs": [
    {
     "name": "stdout",
     "output_type": "stream",
     "text": [
      "lung failure\n",
      "[0.8083507786914107, 0.8024385445460107, 0.7965099705091315, 0.7927278139774155, 0.7839382252046238]\n"
     ]
    },
    {
     "data": {
      "text/html": [
       "<div>\n",
       "<style scoped>\n",
       "    .dataframe tbody tr th:only-of-type {\n",
       "        vertical-align: middle;\n",
       "    }\n",
       "\n",
       "    .dataframe tbody tr th {\n",
       "        vertical-align: top;\n",
       "    }\n",
       "\n",
       "    .dataframe thead th {\n",
       "        text-align: right;\n",
       "    }\n",
       "</style>\n",
       "<table border=\"1\" class=\"dataframe\">\n",
       "  <thead>\n",
       "    <tr style=\"text-align: right;\">\n",
       "      <th></th>\n",
       "      <th>Trial ID</th>\n",
       "      <th>Title</th>\n",
       "      <th>Abstract</th>\n",
       "      <th>Publication date</th>\n",
       "    </tr>\n",
       "  </thead>\n",
       "  <tbody>\n",
       "    <tr>\n",
       "      <th>548</th>\n",
       "      <td>2021-000988-68</td>\n",
       "      <td>Immune response after covid-19 vaccination in patients with renal failure stadium 4 or 5 .</td>\n",
       "      <td>Renal failure stage 4 and 5.</td>\n",
       "      <td>2021-03-31</td>\n",
       "    </tr>\n",
       "    <tr>\n",
       "      <th>4235</th>\n",
       "      <td>NCT04597853</td>\n",
       "      <td>Assessment of Lung Mechanics in SARS-CoV-2/ COVID-19 Acute Respiratory Distress Syndrome: A Holistic, Longitudinal Analysis of the Lung-heart-ventilator Interaction</td>\n",
       "      <td>This study is meant to assess the lung mechanics in SARS-CoV-2 induced acute respiratory failure. A precise characterisation of lung mechanics and heart-lung-interactions might allow a better understanding of SARS-CoV-2 induced acute respiratory failure and thus lead to better mechanical ventilation strategies. This monocentric, observational study of critically ill COVID-19 patients in the ICU, will employ impedance tomography, right-heart catheterization, oesophageal pressure measurements, indirect calorimetry as well as classic mechanical ventilation parameters to characterise the mechanical characteristics of the lung as well as the heart-lung interactions in SARS-CoV-2 induced acute respiratory failure.</td>\n",
       "      <td>2021-03-01</td>\n",
       "    </tr>\n",
       "    <tr>\n",
       "      <th>7831</th>\n",
       "      <td>2020-001807-18</td>\n",
       "      <td>A Phase 2, Randomized, Double-Blind, Placebo-Controlled, Parallel-group, Multi-center Study of an Inhaled Pan-Janus Kinase Inhibitor, TD-0903, to Treat Symptomatic Acute Lung Injury Associated with COVID-19</td>\n",
       "      <td>Acute lung injury associated with COVID-19</td>\n",
       "      <td>2020-10-13</td>\n",
       "    </tr>\n",
       "    <tr>\n",
       "      <th>9785</th>\n",
       "      <td>2020-001236-10</td>\n",
       "      <td>COUNTER-COVID - Oral imatinib to prevent pulmonary vascular leak in Covid19  a randomized, double --blind, placebo controlled, clinical trial in patients with severe Covid19 disease</td>\n",
       "      <td>Covid19 is characterized by hypoxemic respiratory failure, caused by extensive vascular leak and pulmonary edema early in the course of disease.</td>\n",
       "      <td>2020-12-10</td>\n",
       "    </tr>\n",
       "    <tr>\n",
       "      <th>4765</th>\n",
       "      <td>NCT04549636</td>\n",
       "      <td>Prospective Longitudinal Study to Characterize and Understand the Clinical Relevance of SARS-CoV2 Related Ventilation and Perfusion Injury Evaluated by V/Q SPECT-CT in an Asthmatic and Healthy Population</td>\n",
       "      <td>Little is currently known about the immediate and long-term effect of COVID-19 on lung ventilation (delivery of air to the lungs) and lung perfusion (delivery of blood to the lungs). Some people who survive COVID-19 may have lung ventilation and/or perfusion injury that persists following COVID-19 recovery. This lung injury may be related to inflammation in the lung, breathlessness, exercise limitation and reduced quality of life. Therefore, towards the goal of understanding the effects of COVID-19 on lung health, the purpose of this study is to characterize and understand the clinical relevance of COVID-19 related lung ventilation and perfusion injury and associated inflammatory status, ≤4 weeks and 6-months following COVID-19 recovery in an asthmatic and healthy population. To do this, an asthmatic and healthy population who have, and have not, been previously diagnosed with COVID-19 will be studied.</td>\n",
       "      <td>2020-09-18</td>\n",
       "    </tr>\n",
       "  </tbody>\n",
       "</table>\n",
       "</div>"
      ],
      "text/plain": [
       "            Trial ID  \\\n",
       "548   2021-000988-68   \n",
       "4235  NCT04597853      \n",
       "7831  2020-001807-18   \n",
       "9785  2020-001236-10   \n",
       "4765  NCT04549636      \n",
       "\n",
       "                                                                                                                                                                                                               Title  \\\n",
       "548   Immune response after covid-19 vaccination in patients with renal failure stadium 4 or 5 .                                                                                                                       \n",
       "4235  Assessment of Lung Mechanics in SARS-CoV-2/ COVID-19 Acute Respiratory Distress Syndrome: A Holistic, Longitudinal Analysis of the Lung-heart-ventilator Interaction                                             \n",
       "7831  A Phase 2, Randomized, Double-Blind, Placebo-Controlled, Parallel-group, Multi-center Study of an Inhaled Pan-Janus Kinase Inhibitor, TD-0903, to Treat Symptomatic Acute Lung Injury Associated with COVID-19   \n",
       "9785  COUNTER-COVID - Oral imatinib to prevent pulmonary vascular leak in Covid19  a randomized, double --blind, placebo controlled, clinical trial in patients with severe Covid19 disease                            \n",
       "4765  Prospective Longitudinal Study to Characterize and Understand the Clinical Relevance of SARS-CoV2 Related Ventilation and Perfusion Injury Evaluated by V/Q SPECT-CT in an Asthmatic and Healthy Population      \n",
       "\n",
       "                                                                                                                                                                                                                                                                                                                                                                                                                                                                                                                                                                                                                                                                                                                                                                                                                                                                                                                                                 Abstract  \\\n",
       "548   Renal failure stage 4 and 5.                                                                                                                                                                                                                                                                                                                                                                                                                                                                                                                                                                                                                                                                                                                                                                                                                                                                                                                          \n",
       "4235  This study is meant to assess the lung mechanics in SARS-CoV-2 induced acute respiratory failure. A precise characterisation of lung mechanics and heart-lung-interactions might allow a better understanding of SARS-CoV-2 induced acute respiratory failure and thus lead to better mechanical ventilation strategies. This monocentric, observational study of critically ill COVID-19 patients in the ICU, will employ impedance tomography, right-heart catheterization, oesophageal pressure measurements, indirect calorimetry as well as classic mechanical ventilation parameters to characterise the mechanical characteristics of the lung as well as the heart-lung interactions in SARS-CoV-2 induced acute respiratory failure.                                                                                                                                                                                                         \n",
       "7831  Acute lung injury associated with COVID-19                                                                                                                                                                                                                                                                                                                                                                                                                                                                                                                                                                                                                                                                                                                                                                                                                                                                                                            \n",
       "9785  Covid19 is characterized by hypoxemic respiratory failure, caused by extensive vascular leak and pulmonary edema early in the course of disease.                                                                                                                                                                                                                                                                                                                                                                                                                                                                                                                                                                                                                                                                                                                                                                                                      \n",
       "4765  Little is currently known about the immediate and long-term effect of COVID-19 on lung ventilation (delivery of air to the lungs) and lung perfusion (delivery of blood to the lungs). Some people who survive COVID-19 may have lung ventilation and/or perfusion injury that persists following COVID-19 recovery. This lung injury may be related to inflammation in the lung, breathlessness, exercise limitation and reduced quality of life. Therefore, towards the goal of understanding the effects of COVID-19 on lung health, the purpose of this study is to characterize and understand the clinical relevance of COVID-19 related lung ventilation and perfusion injury and associated inflammatory status, ≤4 weeks and 6-months following COVID-19 recovery in an asthmatic and healthy population. To do this, an asthmatic and healthy population who have, and have not, been previously diagnosed with COVID-19 will be studied.   \n",
       "\n",
       "     Publication date  \n",
       "548   2021-03-31       \n",
       "4235  2021-03-01       \n",
       "7831  2020-10-13       \n",
       "9785  2020-12-10       \n",
       "4765  2020-09-18       "
      ]
     },
     "execution_count": 61,
     "metadata": {},
     "output_type": "execute_result"
    }
   ],
   "source": [
    "# skipgram model\n",
    "\n",
    "#Input your search query here\n",
    "\n",
    "Query = \"lung failure\"\n",
    "\n",
    "Results,sim = top_n(Query,skipgram_vectors,df1,skipgram)\n",
    "Results"
   ]
  },
  {
   "cell_type": "code",
   "execution_count": 62,
   "metadata": {},
   "outputs": [
    {
     "name": "stdout",
     "output_type": "stream",
     "text": [
      "lung failure\n",
      "[0.8478911258515825, 0.825774523640895, 0.818642390838548, 0.8147454801956594, 0.8130856143456636]\n"
     ]
    },
    {
     "data": {
      "text/html": [
       "<div>\n",
       "<style scoped>\n",
       "    .dataframe tbody tr th:only-of-type {\n",
       "        vertical-align: middle;\n",
       "    }\n",
       "\n",
       "    .dataframe tbody tr th {\n",
       "        vertical-align: top;\n",
       "    }\n",
       "\n",
       "    .dataframe thead th {\n",
       "        text-align: right;\n",
       "    }\n",
       "</style>\n",
       "<table border=\"1\" class=\"dataframe\">\n",
       "  <thead>\n",
       "    <tr style=\"text-align: right;\">\n",
       "      <th></th>\n",
       "      <th>Trial ID</th>\n",
       "      <th>Title</th>\n",
       "      <th>Abstract</th>\n",
       "      <th>Publication date</th>\n",
       "    </tr>\n",
       "  </thead>\n",
       "  <tbody>\n",
       "    <tr>\n",
       "      <th>7831</th>\n",
       "      <td>2020-001807-18</td>\n",
       "      <td>A Phase 2, Randomized, Double-Blind, Placebo-Controlled, Parallel-group, Multi-center Study of an Inhaled Pan-Janus Kinase Inhibitor, TD-0903, to Treat Symptomatic Acute Lung Injury Associated with COVID-19</td>\n",
       "      <td>Acute lung injury associated with COVID-19</td>\n",
       "      <td>2020-10-13</td>\n",
       "    </tr>\n",
       "    <tr>\n",
       "      <th>548</th>\n",
       "      <td>2021-000988-68</td>\n",
       "      <td>Immune response after covid-19 vaccination in patients with renal failure stadium 4 or 5 .</td>\n",
       "      <td>Renal failure stage 4 and 5.</td>\n",
       "      <td>2021-03-31</td>\n",
       "    </tr>\n",
       "    <tr>\n",
       "      <th>5933</th>\n",
       "      <td>2020-001794-77</td>\n",
       "      <td>Phase II Clinical Trial to evaluate the efficacy of silibinin supplementation in the prevention of the progression of the respiratory failure in patients with onco-hematological diseases and infection by COVID-19 positive.</td>\n",
       "      <td>COVID19 respiratory failure</td>\n",
       "      <td>2020-06-08</td>\n",
       "    </tr>\n",
       "    <tr>\n",
       "      <th>8093</th>\n",
       "      <td>2020-001203-16</td>\n",
       "      <td>Lipid ibuprofen versus standard of care for acute hypoxaemic respiratory failure due to COVID-19: a multicentre, randomised, controlled trial</td>\n",
       "      <td>COVID-19 respiratory failure hypoxaemia.</td>\n",
       "      <td>2020-05-06</td>\n",
       "    </tr>\n",
       "    <tr>\n",
       "      <th>6517</th>\n",
       "      <td>2020-001795-15</td>\n",
       "      <td>A randomized, double blind, placebo-COntrolled trial of MavrilimumaB for Acute respiratory failure due To COVID-19 pneumonia with hyperinflammation: the COMBAT-19 trial</td>\n",
       "      <td>Respiratory failure during COVID-19 pneumonia and hyperinflammation</td>\n",
       "      <td>2020-05-07</td>\n",
       "    </tr>\n",
       "  </tbody>\n",
       "</table>\n",
       "</div>"
      ],
      "text/plain": [
       "            Trial ID  \\\n",
       "7831  2020-001807-18   \n",
       "548   2021-000988-68   \n",
       "5933  2020-001794-77   \n",
       "8093  2020-001203-16   \n",
       "6517  2020-001795-15   \n",
       "\n",
       "                                                                                                                                                                                                                               Title  \\\n",
       "7831  A Phase 2, Randomized, Double-Blind, Placebo-Controlled, Parallel-group, Multi-center Study of an Inhaled Pan-Janus Kinase Inhibitor, TD-0903, to Treat Symptomatic Acute Lung Injury Associated with COVID-19                   \n",
       "548   Immune response after covid-19 vaccination in patients with renal failure stadium 4 or 5 .                                                                                                                                       \n",
       "5933  Phase II Clinical Trial to evaluate the efficacy of silibinin supplementation in the prevention of the progression of the respiratory failure in patients with onco-hematological diseases and infection by COVID-19 positive.   \n",
       "8093  Lipid ibuprofen versus standard of care for acute hypoxaemic respiratory failure due to COVID-19: a multicentre, randomised, controlled trial                                                                                    \n",
       "6517  A randomized, double blind, placebo-COntrolled trial of MavrilimumaB for Acute respiratory failure due To COVID-19 pneumonia with hyperinflammation: the COMBAT-19 trial                                                         \n",
       "\n",
       "                                                                 Abstract  \\\n",
       "7831  Acute lung injury associated with COVID-19                            \n",
       "548   Renal failure stage 4 and 5.                                          \n",
       "5933  COVID19 respiratory failure                                           \n",
       "8093  COVID-19 respiratory failure hypoxaemia.                              \n",
       "6517  Respiratory failure during COVID-19 pneumonia and hyperinflammation   \n",
       "\n",
       "     Publication date  \n",
       "7831  2020-10-13       \n",
       "548   2021-03-31       \n",
       "5933  2020-06-08       \n",
       "8093  2020-05-06       \n",
       "6517  2020-05-07       "
      ]
     },
     "execution_count": 62,
     "metadata": {},
     "output_type": "execute_result"
    }
   ],
   "source": [
    "# fasttext model\n",
    "\n",
    "#Input your search query here\n",
    "\n",
    "Query = \"lung failure\"\n",
    "\n",
    "Results,sim=top_n(Query,fast_vectors,df1,FastText)\n",
    "Results"
   ]
  },
  {
   "cell_type": "markdown",
   "metadata": {},
   "source": [
    "# Streamlit App (Refer Medical.py file to run the app)"
   ]
  },
  {
   "cell_type": "code",
   "execution_count": 63,
   "metadata": {},
   "outputs": [
    {
     "name": "stderr",
     "output_type": "stream",
     "text": [
      "2023-01-06 01:19:58.508 \n",
      "  \u001b[33m\u001b[1mWarning:\u001b[0m to view this Streamlit app on a browser, run it with the following\n",
      "  command:\n",
      "\n",
      "    streamlit run /home/c0d3b23ak32/anaconda3/envs/tensorflow/lib/python3.6/site-packages/ipykernel_launcher.py [ARGUMENTS]\n"
     ]
    }
   ],
   "source": [
    "#streamlit function \n",
    "def main():\n",
    "    # Load data and models\n",
    "    data = df1     #our data which we have to display\n",
    "    model = top_n  #top_n model to return n similar results\n",
    "    \n",
    "\n",
    "    st.title(\"Medical Search engine\")      #title of our app\n",
    "    st.write('Type your query here')       #text below title\n",
    "\n",
    "    # User search\n",
    "    user_input = st.text_input(\"Search box\")   #getting input from user\n",
    "\n",
    "   \n",
    "    # Fetch results\n",
    "    if user_input:\n",
    "        \n",
    "        P,sim =model(str(user_input),K2,data)     #storing our output dataframe in P\n",
    "        #Plotly function to display our dataframe in form of plotly table\n",
    "        fig = go.Figure(data=[go.Table(header=dict(values=['ID', 'Title','Abstract','Publication Date','Similarity']),cells=dict(values=[list(P['Trial ID'].values),list(P['Title'].values), list(P['Abstract'].values),list(P['Publication date'].values),list(np.around(sim,4))],align='center'))])\n",
    "        #displying our plotly table\n",
    "        fig.update_layout(height=1700) \n",
    "        st.plotly_chart(fig) \n",
    "        # Get individual results\n",
    "    \n",
    "\n",
    "if __name__ == \"__main__\":\n",
    "    main()"
   ]
  },
  {
   "cell_type": "code",
   "execution_count": 66,
   "metadata": {},
   "outputs": [
    {
     "name": "stdout",
     "output_type": "stream",
     "text": [
      "Note: you may need to restart the kernel to use updated packages.\n"
     ]
    }
   ],
   "source": [
    "pip freeze > requirements.txt"
   ]
  },
  {
   "cell_type": "code",
   "execution_count": null,
   "metadata": {},
   "outputs": [],
   "source": []
  }
 ],
 "metadata": {
  "kernelspec": {
   "display_name": "Python 3 (ipykernel)",
   "language": "python",
   "name": "python3"
  },
  "language_info": {
   "codemirror_mode": {
    "name": "ipython",
    "version": 3
   },
   "file_extension": ".py",
   "mimetype": "text/x-python",
   "name": "python",
   "nbconvert_exporter": "python",
   "pygments_lexer": "ipython3",
   "version": "3.10.9"
  },
  "vscode": {
   "interpreter": {
    "hash": "c4b8279b59448013ebd76a52696883cf2a850805247726501ccefac9854ffa2d"
   }
  }
 },
 "nbformat": 4,
 "nbformat_minor": 4
}
